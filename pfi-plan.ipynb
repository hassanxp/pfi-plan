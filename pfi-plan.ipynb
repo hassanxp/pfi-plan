{
 "cells": [
  {
   "cell_type": "code",
   "execution_count": 1,
   "metadata": {},
   "outputs": [],
   "source": [
    "import plotly.figure_factory as ff\n",
    "import pandas as pd\n",
    "import random\n",
    "import plotly.graph_objects as go"
   ]
  },
  {
   "cell_type": "code",
   "execution_count": 2,
   "metadata": {},
   "outputs": [],
   "source": [
    "catColors = dict(Project='rgb(255, 51, 0)', \n",
    "                 Hardware='rgb(230, 230, 0)', \n",
    "                 Sky='rgb(51, 153, 255)', \n",
    "                 PSF='rgb(102, 0, 255)', \n",
    "                 WavelengthCal='rgb(153, 102, 255)', \n",
    "                 Calibration='rgb(204, 51, 255)',\n",
    "                 Infra='rgb(153, 0, 153)')"
   ]
  },
  {
   "cell_type": "code",
   "execution_count": 3,
   "metadata": {},
   "outputs": [],
   "source": [
    "def plt_line(df, fig, mls_yr, mls_text, color=\"gray\"):\n",
    "    \n",
    "    fig.add_trace(\n",
    "        go.Scatter(\n",
    "            x = [mls_yr, mls_yr],\n",
    "            y = [-1, len(df.index) + 1],\n",
    "#            mode = \"lines\",\n",
    "            mode = \"lines+text\",\n",
    "            name = mls_text,\n",
    "            textposition = \"bottom center\",\n",
    "            line = go.scatter.Line(color = color, width = 1),\n",
    "            showlegend = False\n",
    "        )\n",
    "    )"
   ]
  },
  {
   "cell_type": "code",
   "execution_count": 4,
   "metadata": {
    "scrolled": true
   },
   "outputs": [],
   "source": [
    "def plot_plan(plan_file):\n",
    "    # Load in CSV\n",
    "    df0 = pd.read_csv(plan_file, skipinitialspace=True,  quotechar='\"').applymap(lambda x: x.strip() if type(x)==str else x).iloc[::-1]\n",
    "\n",
    "    # Filter out columns not needed for gantt plot\n",
    "    df = df0[['Task', 'Start', 'Finish', 'Complete', 'Category']].copy()\n",
    "\n",
    "    for cat in set(df['Category']):\n",
    "        if cat not in catColors:\n",
    "            print(f'category {cat} is not in color mapping') \n",
    "\n",
    "    arms_full = df[df['Task'] == 'SM3(B+R+N)@LAM']['Start'].values[0]\n",
    "    engobs_start = df[df['Task'] == 'Engineering observations']['Start'].values[0]\n",
    "    engobs_end = df[df['Task'] ==  'Engineering observations']['Finish'].values[0]\n",
    "    ssp_end = df[df['Task'] == 'Call for SSP']['Start'].values[0]\n",
    "\n",
    "    fig = ff.create_gantt(df, colors=catColors, index_col='Category',\n",
    "                          show_colorbar=False, \n",
    "                          bar_width=0.1, \n",
    "                          showgrid_x=True, \n",
    "                          showgrid_y=False, \n",
    "                          title=plan_file,\n",
    "                          height=1500,\n",
    "                          width=2000)\n",
    "    fig.update_layout(plot_bgcolor='rgba(0,0,0, 0.1)')\n",
    "\n",
    "    plt_line(df, fig, '2021-08-31', 'MSIP End', color='red')\n",
    "    plt_line(df, fig, arms_full, 'R+B+N', color='gray')\n",
    "    plt_line(df, fig, engobs_start, 'Eng Obs Start', color='green')\n",
    "    plt_line(df, fig, ssp_end, 'Call for SSP', color='black')\n",
    "    plt_line(df, fig, engobs_end , 'Eng Obs End', color='green')\n",
    "\n",
    "    fig.show(renderer='browser')"
   ]
  },
  {
   "cell_type": "code",
   "execution_count": 7,
   "metadata": {},
   "outputs": [],
   "source": [
    "plot_plan('pfi-plan.csv')"
   ]
  },
  {
   "cell_type": "code",
   "execution_count": null,
   "metadata": {},
   "outputs": [],
   "source": []
  }
 ],
 "metadata": {
  "kernelspec": {
   "display_name": "Python 3",
   "language": "python",
   "name": "python3"
  },
  "language_info": {
   "codemirror_mode": {
    "name": "ipython",
    "version": 3
   },
   "file_extension": ".py",
   "mimetype": "text/x-python",
   "name": "python",
   "nbconvert_exporter": "python",
   "pygments_lexer": "ipython3",
   "version": "3.7.2"
  }
 },
 "nbformat": 4,
 "nbformat_minor": 2
}
